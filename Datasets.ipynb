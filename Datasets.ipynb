{
 "cells": [
  {
   "cell_type": "raw",
   "id": "5a169952",
   "metadata": {},
   "source": [
    "---\n",
    "title: \"Assignment templates and Datasets\"\n",
    "format: \n",
    "  html:\n",
    "    code-fold: false\n",
    "jupyter: python3\n",
    "---"
   ]
  },
  {
   "cell_type": "markdown",
   "id": "ecf28294",
   "metadata": {},
   "source": [
    "Assignment templates and datasets used in the class notes can be found [here](https://nuwildcat-my.sharepoint.com/:f:/g/personal/akl0407_ads_northwestern_edu/Es4CSeuM3VtPjO7BQXCRe8EBqUkXvkOCKHOq8gExTTNwNg?e=kR8ysq)"
   ]
  }
 ],
 "metadata": {
  "kernelspec": {
   "display_name": "Python 3 (ipykernel)",
   "language": "python",
   "name": "python3"
  },
  "language_info": {
   "codemirror_mode": {
    "name": "ipython",
    "version": 3
   },
   "file_extension": ".py",
   "mimetype": "text/x-python",
   "name": "python",
   "nbconvert_exporter": "python",
   "pygments_lexer": "ipython3",
   "version": "3.8.17"
  }
 },
 "nbformat": 4,
 "nbformat_minor": 5
}
